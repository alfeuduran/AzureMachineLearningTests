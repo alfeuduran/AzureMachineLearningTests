{
  "nbformat": 4,
  "nbformat_minor": 0,
  "metadata": {
    "colab": {
      "name": "Azure Fashion Mnist Deployment.ipynb",
      "provenance": [],
      "collapsed_sections": [],
      "include_colab_link": true
    },
    "language_info": {
      "codemirror_mode": {
        "name": "ipython",
        "version": 3
      },
      "file_extension": ".py",
      "mimetype": "text/x-python",
      "name": "python",
      "nbconvert_exporter": "python",
      "pygments_lexer": "ipython3",
      "version": "3.7.3"
    },
    "kernelspec": {
      "display_name": "Python 3",
      "language": "python",
      "name": "python3"
    }
  },
  "cells": [
    {
      "cell_type": "markdown",
      "metadata": {
        "id": "view-in-github",
        "colab_type": "text"
      },
      "source": [
        "<a href=\"https://colab.research.google.com/github/alfeuduran/AzureMachineLearningTests/blob/master/Azure_Fashion_Mnist_Deployment.ipynb\" target=\"_parent\"><img src=\"https://colab.research.google.com/assets/colab-badge.svg\" alt=\"Open In Colab\"/></a>"
      ]
    },
    {
      "cell_type": "markdown",
      "metadata": {
        "id": "yEbNzq7uU07-",
        "colab_type": "text"
      },
      "source": [
        "# Fashion MNIST Image Classification - Azure ML SDK Deployment"
      ]
    },
    {
      "cell_type": "markdown",
      "metadata": {
        "id": "4XBHE2xUU08A",
        "colab_type": "text"
      },
      "source": [
        "In this Fashion MNIST notebook we introduce how to take the models you have registered and versioned, deploy them to production and monitor them \n",
        "\n",
        "This code will show how Azure ML SDK can support your machine learning project with:\n",
        "* creating a training and scoring script for your model\n",
        "* creating a bespoke environment for your model to run in (libraries and packages to install)\n",
        "* setting up a container service to host your model\n",
        "* deploying your model to the cloud container service\n",
        "* retrieving the service scoring URL for your hosted model\n",
        "* sending test data to your hosted model to be scored and returned to compare for the accuracy of your model on your validation set\n",
        "\n",
        "This notebook is based off the great documentation tutorial here: [https://docs.microsoft.com/en-us/azure/machine-learning/service/tutorial-deploy-models-with-aml]"
      ]
    },
    {
      "cell_type": "markdown",
      "metadata": {
        "id": "yOyVv_7MU08B",
        "colab_type": "text"
      },
      "source": [
        "## Import packages "
      ]
    },
    {
      "cell_type": "code",
      "metadata": {
        "id": "rZGHRXKwU08C",
        "colab_type": "code",
        "outputId": "637dc8eb-531b-4647-bd89-6de28b4cb1ce",
        "colab": {}
      },
      "source": [
        "%matplotlib inline\n",
        "import numpy as np\n",
        "import matplotlib\n",
        "import matplotlib.pyplot as plt\n",
        "\n",
        "import azureml\n",
        "from azureml.core import Workspace, Run\n",
        "\n",
        "# display the core SDK version number\n",
        "print(\"Azure ML SDK Version: \", azureml.core.VERSION)"
      ],
      "execution_count": 0,
      "outputs": [
        {
          "output_type": "stream",
          "text": [
            "Azure ML SDK Version:  1.0.23\n"
          ],
          "name": "stdout"
        }
      ]
    },
    {
      "cell_type": "markdown",
      "metadata": {
        "id": "JnvLc5N7U08J",
        "colab_type": "text"
      },
      "source": [
        "## Load workspace and download registered model "
      ]
    },
    {
      "cell_type": "code",
      "metadata": {
        "id": "kNwH0MjyU08K",
        "colab_type": "code",
        "outputId": "36150280-781b-444a-e19f-1d5054438ee4",
        "colab": {}
      },
      "source": [
        "from azureml.core import Workspace\n",
        "from azureml.core.model import Model\n",
        "\n",
        "ws = Workspace.from_config()\n",
        "model=Model(ws, 'keras_dl_fashion_test')\n",
        "model.download(target_dir = '.', exist_ok = 'True')\n",
        "import os \n",
        "# verify the downloaded model file\n",
        "os.stat('model.h5')"
      ],
      "execution_count": 0,
      "outputs": [
        {
          "output_type": "stream",
          "text": [
            "Found the config file in: /home/aysmtl/Desktop/config.json\n"
          ],
          "name": "stdout"
        },
        {
          "output_type": "execute_result",
          "data": {
            "text/plain": [
              "os.stat_result(st_mode=33204, st_ino=11543102, st_dev=2050, st_nlink=1, st_uid=1000, st_gid=1000, st_size=2694024, st_atime=1555080595, st_mtime=1550846185, st_ctime=1555078640)"
            ]
          },
          "metadata": {
            "tags": []
          },
          "execution_count": 5
        }
      ]
    },
    {
      "cell_type": "markdown",
      "metadata": {
        "id": "qFtkgg13U08P",
        "colab_type": "text"
      },
      "source": [
        "## Load and format Test dataset"
      ]
    },
    {
      "cell_type": "code",
      "metadata": {
        "id": "_zXGakwBU08Q",
        "colab_type": "code",
        "outputId": "8748b720-1cd7-49d8-d3dd-452c51b122d0",
        "colab": {}
      },
      "source": [
        "import tensorflow as tf\n",
        "import os\n",
        "import time\n",
        "os.environ[\"TF_CPP_MIN_LOG_LEVEL\"]= \"2\"\n",
        "print(\"tensorflow Version is: \" + str(tf.__version__))\n",
        "\n",
        "import numpy as np\n",
        "os.environ['KERAS_BACKEND'] = 'tensorflow'\n",
        "from keras import backend as K\n",
        "print(os.environ['KERAS_BACKEND'])\n",
        "\n",
        "#Fashion MNIST Dataset CNN model development: https://github.com/zalandoresearch/fashion-mnist\n",
        "from keras.datasets import fashion_mnist\n",
        "from keras.models import Sequential\n",
        "from keras.layers import Dense, Dropout, Flatten\n",
        "from keras.layers import Conv2D, MaxPooling2D\n",
        "from keras import utils, losses, optimizers\n",
        "import matplotlib.pyplot as plt\n",
        "from utils import load_data\n",
        "\n",
        "(x_train, y_train), (x_test, y_test) = fashion_mnist.load_data()\n",
        "\n",
        "#no. of classes\n",
        "num_classes = 10\n",
        "# Define the text labels\n",
        "fashion_mnist_labels = [\"Top\",          # index 0\n",
        "                        \"Trouser\",      # index 1\n",
        "                        \"Jumper\",       # index 2 \n",
        "                        \"Dress\",        # index 3 \n",
        "                        \"Coat\",         # index 4\n",
        "                        \"Sandal\",       # index 5\n",
        "                        \"Shirt\",        # index 6 \n",
        "                        \"Trainer\",      # index 7 \n",
        "                        \"Bag\",          # index 8 \n",
        "                        \"Ankle boot\"]   # index 9\n",
        "\n",
        "x_test = x_test.astype('float32')\n",
        "x_test /= 255\n",
        "y_test = utils.to_categorical(y_test,  num_classes)\n",
        "\n",
        "#X_test = load_data('./data/test-images.gz', False) / 255.0\n",
        "#y_test = load_data('./data/test-labels.gz', True).reshape(-1)"
      ],
      "execution_count": 0,
      "outputs": [
        {
          "output_type": "stream",
          "text": [
            "tensorflow Version is: 1.13.1\n",
            "tensorflow\n"
          ],
          "name": "stdout"
        },
        {
          "output_type": "stream",
          "text": [
            "Using TensorFlow backend.\n"
          ],
          "name": "stderr"
        }
      ]
    },
    {
      "cell_type": "markdown",
      "metadata": {
        "id": "I7Jo45r6U08U",
        "colab_type": "text"
      },
      "source": [
        "## Create a score.py script"
      ]
    },
    {
      "cell_type": "code",
      "metadata": {
        "id": "KZZNBS_dU08V",
        "colab_type": "code",
        "outputId": "7329c0d2-ec3a-4a0c-c78e-7836e8954a3f",
        "colab": {}
      },
      "source": [
        "%%writefile score.py\n",
        "import keras as K\n",
        "from azureml.core.model import Model\n",
        "from keras.models import Sequential\n",
        "from keras.models import load_model\n",
        "import h5py\n",
        "import sys\n",
        "import os\n",
        "import numpy as np\n",
        "import json\n",
        "\n",
        "def init():\n",
        "    global model\n",
        "    print(\"Python version: \" + str(sys.version) + \", keras version: \" + K.__version__)\n",
        "    print(\"Executing init() method...\")\n",
        "    model_path = Model.get_model_path('model.h5')\n",
        "    print(\"got model...\")\n",
        "    model = K.models.load_model(model_path)\n",
        "    print(\"loaded model...\")\n",
        "\n",
        "def run(raw_data):\n",
        "    print(\"Executing run(raw_data) method...\")\n",
        "    data = np.array(json.loads(raw_data)['data'])\n",
        "    data = np.reshape(data, (30,28,28,1))\n",
        "    y_hat = model.predict(data)\n",
        "    print(\"Eexcuted predictions...\")\n",
        "    return json.dumps(y_hat.tolist())"
      ],
      "execution_count": 0,
      "outputs": [
        {
          "output_type": "stream",
          "text": [
            "Writing score.py\n"
          ],
          "name": "stdout"
        }
      ]
    },
    {
      "cell_type": "markdown",
      "metadata": {
        "id": "1GXUKfZ2U08Z",
        "colab_type": "text"
      },
      "source": [
        "## Create a bespoke environment to run your model in "
      ]
    },
    {
      "cell_type": "code",
      "metadata": {
        "id": "7M2rJMzGU08a",
        "colab_type": "code",
        "colab": {}
      },
      "source": [
        "from azureml.core.conda_dependencies import CondaDependencies \n",
        "\n",
        "myenv = CondaDependencies()\n",
        "myenv.add_conda_package(\"scikit-learn\")\n",
        "myenv.add_conda_package(\"keras\")\n",
        "myenv.add_tensorflow_pip_package(core_type='cpu', version='1.11.0')\n",
        "\n",
        "with open(\"myenv.yml\",\"w\") as f:\n",
        "    f.write(myenv.serialize_to_string())"
      ],
      "execution_count": 0,
      "outputs": []
    },
    {
      "cell_type": "code",
      "metadata": {
        "id": "IIbj8zAfU08d",
        "colab_type": "code",
        "outputId": "14a164a0-adce-440b-e929-cf26d6b44966",
        "colab": {}
      },
      "source": [
        "with open(\"myenv.yml\",\"r\") as f:\n",
        "    print(f.read())"
      ],
      "execution_count": 0,
      "outputs": [
        {
          "output_type": "stream",
          "text": [
            "# Conda environment specification. The dependencies defined in this file will\n",
            "# be automatically provisioned for runs with userManagedDependencies=False.\n",
            "\n",
            "# Details about the Conda environment file format:\n",
            "# https://conda.io/docs/user-guide/tasks/manage-environments.html#create-env-file-manually\n",
            "\n",
            "name: project_environment\n",
            "dependencies:\n",
            "  # The python interpreter version.\n",
            "  # Currently Azure ML only supports 3.5.2 and later.\n",
            "- python=3.6.2\n",
            "\n",
            "- pip:\n",
            "    # Required packages for AzureML execution, history, and data preparation.\n",
            "  - azureml-defaults\n",
            "  - tensorflow==1.11.0\n",
            "- scikit-learn\n",
            "- keras\n",
            "\n"
          ],
          "name": "stdout"
        }
      ]
    },
    {
      "cell_type": "markdown",
      "metadata": {
        "id": "iQRkKRSMU08h",
        "colab_type": "text"
      },
      "source": [
        "## Setup a Container service to host your model in"
      ]
    },
    {
      "cell_type": "code",
      "metadata": {
        "id": "OpOeX_AZU08i",
        "colab_type": "code",
        "colab": {}
      },
      "source": [
        "from azureml.core.webservice import AciWebservice\n",
        "\n",
        "aciconfig = AciWebservice.deploy_configuration(cpu_cores=1, \n",
        "                                               memory_gb=1, \n",
        "                                               tags={\"data\": \"fashion-MNIST\",  \"method\" : \"keras\"}, \n",
        "                                               description='Deep Learning to classify fashion clothing items, using Keras')"
      ],
      "execution_count": 0,
      "outputs": []
    },
    {
      "cell_type": "code",
      "metadata": {
        "id": "aRt23WhuU08m",
        "colab_type": "code",
        "outputId": "1fc63b20-3825-4344-c326-e8d88869a084",
        "colab": {}
      },
      "source": [
        "%%time\n",
        "from azureml.core.webservice import Webservice\n",
        "from azureml.core.image import ContainerImage\n",
        "\n",
        "image_config = ContainerImage.image_configuration(execution_script = \"score.py\",\n",
        "                                    runtime = \"python\",\n",
        "                                    conda_file = \"myenv.yml\",\n",
        "                                    description = \"Deep Learning to classify fashion clothing items, using Keras\",\n",
        "                                    tags = {\"data\": \"fashionmnist\", \"type\": \"classification\"}                                                 )\n",
        "\n",
        "#the service name must not already exist in your workspace, else rename it \n",
        "service_name = 'deployfashion2'\n",
        "service = Webservice.deploy(deployment_config = aciconfig,\n",
        "                                image_config = image_config,\n",
        "                                model_paths = ['model.h5'],\n",
        "                                name = service_name,\n",
        "                                workspace = ws)\n",
        "\n",
        "service.wait_for_deployment(show_output = True)\n",
        "print(service.state)"
      ],
      "execution_count": 0,
      "outputs": [
        {
          "output_type": "stream",
          "text": [
            "Registering model model.h5\n",
            "Creating image\n",
            "Image creation operation finished for image deployfashion2:1, operation \"Succeeded\"\n",
            "Creating service\n",
            "Running........................\n",
            "SucceededACI service creation operation finished, operation \"Succeeded\"\n",
            "Healthy\n",
            "CPU times: user 4.18 s, sys: 127 ms, total: 4.3 s\n",
            "Wall time: 9min 30s\n"
          ],
          "name": "stdout"
        }
      ]
    },
    {
      "cell_type": "code",
      "metadata": {
        "id": "ozXFeiFyU08p",
        "colab_type": "code",
        "outputId": "c67cb41f-3def-4440-91db-879461d07063",
        "colab": {}
      },
      "source": [
        "print(service.scoring_uri)"
      ],
      "execution_count": 0,
      "outputs": [
        {
          "output_type": "stream",
          "text": [
            "http://104.45.172.168:80/score\n"
          ],
          "name": "stdout"
        }
      ]
    },
    {
      "cell_type": "markdown",
      "metadata": {
        "id": "JDIOltCSU08s",
        "colab_type": "text"
      },
      "source": [
        "## Test your model by calling the hosted API with test data"
      ]
    },
    {
      "cell_type": "code",
      "metadata": {
        "id": "57MIGu89U08t",
        "colab_type": "code",
        "outputId": "c7551766-1beb-4b9b-d811-c765ac60414d",
        "colab": {}
      },
      "source": [
        "import json\n",
        "s = 100\n",
        "e = s + 30\n",
        "\n",
        "#sample_indices = (x_test[0:n])\n",
        "\n",
        "test_samples = json.dumps({\"data\": x_test[s:e].tolist()})\n",
        "test_samples = bytes(test_samples, encoding = 'utf8')\n",
        "\n",
        "test_labels = y_test[s:e]\n",
        "\n",
        "##testing input correct\n",
        "body = np.array(json.loads(test_samples)['data'])\n",
        "\n",
        "# predict using the deployed model\n",
        "result = json.loads(service.run(input_data=test_samples))\n",
        "\n",
        "for i in range(0, len(result)):\n",
        "    indice_prediction = np.argmax(result[i])\n",
        "    indice_label = np.argmax(test_labels[i])\n",
        "    if indice_prediction == indice_label:\n",
        "        print(\"correct prediction for sample \" + str(i))\n",
        "    else:\n",
        "        print(\"INCORRECT prediction for sample\" + str(i))"
      ],
      "execution_count": 0,
      "outputs": [
        {
          "output_type": "stream",
          "text": [
            "correct prediction for sample 0\n",
            "correct prediction for sample 1\n",
            "correct prediction for sample 2\n",
            "INCORRECT prediction for sample3\n",
            "correct prediction for sample 4\n",
            "correct prediction for sample 5\n",
            "correct prediction for sample 6\n",
            "correct prediction for sample 7\n",
            "correct prediction for sample 8\n",
            "correct prediction for sample 9\n",
            "correct prediction for sample 10\n",
            "correct prediction for sample 11\n",
            "correct prediction for sample 12\n",
            "correct prediction for sample 13\n",
            "correct prediction for sample 14\n",
            "correct prediction for sample 15\n",
            "correct prediction for sample 16\n",
            "INCORRECT prediction for sample17\n",
            "correct prediction for sample 18\n",
            "correct prediction for sample 19\n",
            "correct prediction for sample 20\n",
            "correct prediction for sample 21\n",
            "correct prediction for sample 22\n",
            "correct prediction for sample 23\n",
            "correct prediction for sample 24\n",
            "correct prediction for sample 25\n",
            "correct prediction for sample 26\n",
            "correct prediction for sample 27\n",
            "correct prediction for sample 28\n",
            "correct prediction for sample 29\n"
          ],
          "name": "stdout"
        }
      ]
    },
    {
      "cell_type": "code",
      "metadata": {
        "id": "Qgh63YNiU08w",
        "colab_type": "code",
        "colab": {}
      },
      "source": [
        ""
      ],
      "execution_count": 0,
      "outputs": []
    }
  ]
}