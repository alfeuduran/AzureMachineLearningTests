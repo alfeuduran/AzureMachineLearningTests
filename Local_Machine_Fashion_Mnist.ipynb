{
  "nbformat": 4,
  "nbformat_minor": 0,
  "metadata": {
    "colab": {
      "name": "Local Machine Fashion Mnist.ipynb",
      "provenance": [],
      "include_colab_link": true
    },
    "language_info": {
      "codemirror_mode": {
        "name": "ipython",
        "version": 3
      },
      "file_extension": ".py",
      "mimetype": "text/x-python",
      "name": "python",
      "nbconvert_exporter": "python",
      "pygments_lexer": "ipython3",
      "version": "3.7.3"
    },
    "kernelspec": {
      "display_name": "Python 3",
      "language": "python",
      "name": "python3"
    }
  },
  "cells": [
    {
      "cell_type": "markdown",
      "metadata": {
        "id": "view-in-github",
        "colab_type": "text"
      },
      "source": [
        "<a href=\"https://colab.research.google.com/github/alfeuduran/AzureMachineLearningTests/blob/master/Local_Machine_Fashion_Mnist.ipynb\" target=\"_parent\"><img src=\"https://colab.research.google.com/assets/colab-badge.svg\" alt=\"Open In Colab\"/></a>"
      ]
    },
    {
      "cell_type": "markdown",
      "metadata": {
        "id": "buE2A01YCtvL",
        "colab_type": "text"
      },
      "source": [
        "# Classifying Fashion-MNIST images"
      ]
    },
    {
      "cell_type": "markdown",
      "metadata": {
        "id": "R7wNT01XCtvN",
        "colab_type": "text"
      },
      "source": [
        "In this tutorial, you will be learning about how to classify the Fashion-MNIST dataset by building a simple convolutional neural network (CNN) in [Keras](https://keras.io/). Before  going into the details of model construction, let us learn a little bit more about our dataset: **Fashion-MNIST**. \n",
        "\n",
        "The Fashion MNISt dataset contains 70,000 grayscale images of fashion products from 10 different categories, there are 7,000 images per category. Each image is of size 28 x 28. The entire dataset is divided into two: a training set comprising of 60,000 images and the test set with 10,000 images. The data can be found here: https://github.com/zalandoresearch/fashion-mnist"
      ]
    },
    {
      "cell_type": "markdown",
      "metadata": {
        "id": "aHbGZXc1CtvO",
        "colab_type": "text"
      },
      "source": [
        "## Step 1: Import the necessary modules\n",
        "\n",
        "We are using here TensorFlow as backend for Keras. If you want to change the backend used in Keras from Tensorflow to CNTK you can do it by simply changing the `os.environ['KERAS_BACKEND']` variable to `cntk`"
      ]
    },
    {
      "cell_type": "code",
      "metadata": {
        "id": "ZFmCAXMgCtvP",
        "colab_type": "code",
        "outputId": "4270d358-d2f5-4b0d-9ab4-3a9e98314262",
        "colab": {}
      },
      "source": [
        "import tensorflow as tf\n",
        "import os\n",
        "import time\n",
        "os.environ[\"TF_CPP_MIN_LOG_LEVEL\"]= \"2\"\n",
        "print(\"tensorflow Version is: \" + str(tf.__version__))\n",
        "\n",
        "import numpy as np\n",
        "os.environ['KERAS_BACKEND'] = 'tensorflow'\n",
        "from keras import backend as K\n",
        "print(os.environ['KERAS_BACKEND'])"
      ],
      "execution_count": 0,
      "outputs": [
        {
          "output_type": "stream",
          "text": [
            "tensorflow Version is: 1.13.1\n",
            "tensorflow\n"
          ],
          "name": "stdout"
        }
      ]
    },
    {
      "cell_type": "markdown",
      "metadata": {
        "id": "ywK-1MjqCtvW",
        "colab_type": "text"
      },
      "source": [
        "* We also import all the Keras functions we will need to use to create a Convolutional Neural Network (CNN)\n"
      ]
    },
    {
      "cell_type": "code",
      "metadata": {
        "id": "KkUje_7eCtvX",
        "colab_type": "code",
        "colab": {}
      },
      "source": [
        "#Fashion MNIST Dataset CNN model development: https://github.com/zalandoresearch/fashion-mnist\n",
        "from keras.datasets import fashion_mnist\n",
        "from keras.models import Sequential\n",
        "from keras.layers import Dense, Dropout, Flatten\n",
        "from keras.layers import Conv2D, MaxPooling2D\n",
        "from keras import utils, losses, optimizers\n",
        "import matplotlib.pyplot as plt"
      ],
      "execution_count": 0,
      "outputs": []
    },
    {
      "cell_type": "markdown",
      "metadata": {
        "id": "S39zvaYwCtva",
        "colab_type": "text"
      },
      "source": [
        "## Step 2: Declare variables\n",
        "* We setup some variables for example how many classes there are [0-9] as well as batch size to send the training sample of data in to the model and epochs is how many iterations/run thoroughs of the data there are\n",
        "* Each image is of size 28 x 28 pixels"
      ]
    },
    {
      "cell_type": "code",
      "metadata": {
        "id": "uzZaw1QHCtvb",
        "colab_type": "code",
        "colab": {}
      },
      "source": [
        "#no. of classes\n",
        "num_classes = 10\n",
        "\n",
        "# batch size and training iterations (epochs)\n",
        "batch_size = 128\n",
        "epochs = 24\n",
        "\n",
        "#input image dimensions\n",
        "img_rows,img_cols = 28,28"
      ],
      "execution_count": 0,
      "outputs": []
    },
    {
      "cell_type": "markdown",
      "metadata": {
        "id": "QwYYH_KgCtvf",
        "colab_type": "text"
      },
      "source": [
        "## Step 3: Load the dataset\n",
        "* Now we load the dataset from the Keras Library. And explore the dataset. `x_train` and `x_test` are the training and test dataset features and `y_train` and `y_test` the respective labels. \n",
        "\n",
        "* We also plot one of the images from the training set with its corresponding text label.\n",
        "\n",
        "#### You can change the img_index field to any number between 0 - 60000 to see different images"
      ]
    },
    {
      "cell_type": "code",
      "metadata": {
        "id": "dRwdW6taCtvg",
        "colab_type": "code",
        "outputId": "c81d4111-9158-4535-d189-093588cd329d",
        "colab": {}
      },
      "source": [
        "#data for train and testing\n",
        "(x_train, y_train), (x_test, y_test) = fashion_mnist.load_data()\n",
        "\n",
        "print(x_train.shape, 'train set')\n",
        "print(x_test.shape, 'test set')\n",
        "\n",
        "# Define the text labels\n",
        "fashion_mnist_labels = [\"Top\",          # index 0\n",
        "                        \"Trouser\",      # index 1\n",
        "                        \"Jumper\",       # index 2 \n",
        "                        \"Dress\",        # index 3 \n",
        "                        \"Coat\",         # index 4\n",
        "                        \"Sandal\",       # index 5\n",
        "                        \"Shirt\",        # index 6 \n",
        "                        \"Trainer\",      # index 7 \n",
        "                        \"Bag\",          # index 8 \n",
        "                        \"Ankle boot\"]   # index 9\n",
        "\n",
        "img_index=90\n",
        "label_index = y_train[img_index]\n",
        "plt.imshow(x_train[img_index])\n",
        "print('Label Index: ' + str(label_index) + \" Fashion Labels: \" + (fashion_mnist_labels[label_index]))"
      ],
      "execution_count": 0,
      "outputs": [
        {
          "output_type": "stream",
          "text": [
            "Downloading data from http://fashion-mnist.s3-website.eu-central-1.amazonaws.com/train-labels-idx1-ubyte.gz\n",
            "32768/29515 [=================================] - 0s 2us/step\n",
            "Downloading data from http://fashion-mnist.s3-website.eu-central-1.amazonaws.com/train-images-idx3-ubyte.gz\n",
            "26427392/26421880 [==============================] - 6s 0us/step\n",
            "Downloading data from http://fashion-mnist.s3-website.eu-central-1.amazonaws.com/t10k-labels-idx1-ubyte.gz\n",
            "8192/5148 [===============================================] - 0s 0us/step\n",
            "Downloading data from http://fashion-mnist.s3-website.eu-central-1.amazonaws.com/t10k-images-idx3-ubyte.gz\n",
            "4423680/4422102 [==============================] - 1s 0us/step\n",
            "(60000, 28, 28) train set\n",
            "(10000, 28, 28) test set\n",
            "Label Index: 9 Fashion Labels: Ankle boot\n"
          ],
          "name": "stdout"
        },
        {
          "output_type": "display_data",
          "data": {
            "image/png": "[encoded data removed]",
            "text/plain": [
              "<Figure size 432x288 with 1 Axes>"
            ]
          },
          "metadata": {
            "tags": [],
            "needs_background": "light"
          }
        }
      ]
    },
    {
      "cell_type": "markdown",
      "metadata": {
        "id": "rznmBGqyCtvk",
        "colab_type": "text"
      },
      "source": [
        "## Step 4: Preprocess the dataset\n",
        "* Now in step 4 we preprocess the images in both training and test dataset. The first step in preprocessing is **normalizing** the images, at present each pixel vale is a number between `1-255`, we divide it by 255 to ensure that the pixel values lie between `0-1`.  Normalization helps the model to converge as the math becomes easier with smaller numbers\n",
        "\n",
        "* Also we need to [one-hot-encode](https://www.aimldl.org/ml/Recognizing_Handwritten_Digits.html#One-hot-encoding)\n",
        "the labels, this converts them from numeric labels of `0-9` to binary vector of size 10.\n",
        "\n",
        "* Lastly, since we are deadling with greyscale images we have a depth number = 1 that might be interpreted different dpending on how the images are treated in the framework used (CNTK, Tensorflow etc)"
      ]
    },
    {
      "cell_type": "code",
      "metadata": {
        "id": "u53DapGvCtvl",
        "colab_type": "code",
        "colab": {}
      },
      "source": [
        "#type convert and scale the test and training data\n",
        "x_train = x_train.astype('float32')\n",
        "x_test = x_test.astype('float32')\n",
        "x_train /= 255\n",
        "x_test /= 255\n",
        "\n",
        "#one-hot encoding\n",
        "y_train = utils.to_categorical(y_train, num_classes)\n",
        "y_test = utils.to_categorical(y_test,  num_classes)\n",
        "\n",
        "#formatting issues for depth of image (greyscale = 1) with different kernels (tensorflow, cntk, etc)\n",
        "if K.image_data_format()== 'channels_first':\n",
        "    x_train = x_train.reshape(x_train.shape[0], 1, img_rows, img_cols)\n",
        "    x_test = x_test.reshape(x_test.shape[0],1,img_rows, img_cols)\n",
        "    input_shape = (1, img_rows, img_cols)\n",
        "else:\n",
        "    x_train = x_train.reshape(x_train.shape[0], img_rows, img_cols,1)\n",
        "    x_test = x_test.reshape(x_test.shape[0],img_rows, img_cols,1)\n",
        "    input_shape = (img_rows, img_cols,1)"
      ],
      "execution_count": 0,
      "outputs": []
    },
    {
      "cell_type": "markdown",
      "metadata": {
        "id": "KhG5uTfwCtvp",
        "colab_type": "text"
      },
      "source": [
        "## Step 5: Define Model Architecture\n",
        "\n",
        "Now we use the Keras Sequential API to build a simple Convolutional Neural Network (CNN) layer by layer.\n",
        "\n",
        "* We build  a **sequential model** meaning every layer passes information forward to the next layer of the network\n",
        "* **1st Convoltuional Layer** - extracts features from data source, these are kernels/filters and feature maps. Feature maps passed to the  next layer. This layer also has a ReLu activation function - Y = max(0, x) this removes any value <0 and prevents vanishing gradients or weights <0\n",
        "* **2nd pooling layer ** - reduces dimensionality, reduce compute and helps with overfitting of the data.\n",
        "* **3rd Convolutional Layer ** -we add a Convoltuional Layer - extracts features from data source, these are kernels/filters and feature maps. Feature maps passed to the  next layer. This layer also has a ReLu activation function - Y = max(0, x) this removes any value <0 and prevents vanishing gradients or weights <0\n",
        "* **4th Pooling Layer ** - reduces dimensionality, reduce compute and helps with overfitting of the data.\n",
        "* **5th/6th Dense fully connected layer with softmax function:** put features together and classify what item of clothing is used"
      ]
    },
    {
      "cell_type": "markdown",
      "metadata": {
        "id": "H0Iz_sn8Ctvq",
        "colab_type": "text"
      },
      "source": [
        "> **Run some experiments to see how when you change the model below and rerun all the code the accuarcy and model will change:**\n",
        "* add a dropout layer after the first pooling layer and also before the final dense layer: `model.add(Dropout(0.5))`\n",
        "* change the value of dropout between 0 and 1: `model.add(Dropout(X))`\n",
        "* change the 2 Conv2D layer first variable to 32 instead of 64: `model.add(Conv2D(32, kernel_size=(3,3), activation = 'relu'))`\n",
        "* Add padding to each of the Conv2D layers: `model.add(Conv2D(32, kernel_size=(3,3), padding = 'same', activation = 'relu'))`"
      ]
    },
    {
      "cell_type": "code",
      "metadata": {
        "id": "mLKNU1cUCtvr",
        "colab_type": "code",
        "outputId": "bd37097d-2660-4770-e153-a0da7b254c5c",
        "colab": {}
      },
      "source": [
        "#Define the CNN model\n",
        "model = Sequential()\n",
        "\n",
        "model.add(Conv2D(64, kernel_size=(3,3), activation = 'relu', input_shape=input_shape))\n",
        "model.add(MaxPooling2D(pool_size=(2,2)))\n",
        "\n",
        "model.add(Conv2D(64, kernel_size=(3,3), activation = 'relu'))\n",
        "model.add(MaxPooling2D(pool_size=(2,2)))\n",
        "\n",
        "model.add(Flatten())\n",
        "model.add(Dense(128, activation='relu'))\n",
        "\n",
        "#model.add(Dropout(0.5))\n",
        "model.add(Dense(num_classes, activation='softmax'))\n",
        "\n",
        "model.summary()"
      ],
      "execution_count": 0,
      "outputs": [
        {
          "output_type": "stream",
          "text": [
            "WARNING:tensorflow:From /home/aysmtl/Downloads/246800ab3/lib/python3.7/site-packages/tensorflow/python/framework/op_def_library.py:263: colocate_with (from tensorflow.python.framework.ops) is deprecated and will be removed in a future version.\n",
            "Instructions for updating:\n",
            "Colocations handled automatically by placer.\n",
            "_________________________________________________________________\n",
            "Layer (type)                 Output Shape              Param #   \n",
            "=================================================================\n",
            "conv2d_1 (Conv2D)            (None, 26, 26, 64)        640       \n",
            "_________________________________________________________________\n",
            "max_pooling2d_1 (MaxPooling2 (None, 13, 13, 64)        0         \n",
            "_________________________________________________________________\n",
            "conv2d_2 (Conv2D)            (None, 11, 11, 64)        36928     \n",
            "_________________________________________________________________\n",
            "max_pooling2d_2 (MaxPooling2 (None, 5, 5, 64)          0         \n",
            "_________________________________________________________________\n",
            "flatten_1 (Flatten)          (None, 1600)              0         \n",
            "_________________________________________________________________\n",
            "dense_1 (Dense)              (None, 128)               204928    \n",
            "_________________________________________________________________\n",
            "dense_2 (Dense)              (None, 10)                1290      \n",
            "=================================================================\n",
            "Total params: 243,786\n",
            "Trainable params: 243,786\n",
            "Non-trainable params: 0\n",
            "_________________________________________________________________\n"
          ],
          "name": "stdout"
        }
      ]
    },
    {
      "cell_type": "markdown",
      "metadata": {
        "id": "vivMpyLJCtvw",
        "colab_type": "text"
      },
      "source": [
        "## Step 6: Train and evaluate the model\n",
        "* Now we compile the CNN model and assigns loss/optimiser functions as well as metrics we wish to view\n",
        "* We also add a timer so we know how long the model takes to run\n",
        "* Fit the training data to the model using 24 epoches and batches of 64 images. Pass in the test data as your validation set so we can see how the accuracy differs on the training set to the validation set as the model runs through 24 epochs\n",
        "* Finally we evaluate the model using the test/validation set\n",
        "\n",
        "> You can look at different optimisers available in Keras and see what happens when you change this value: [https://keras.io/optimizers/](https://keras.io/optimizers/)"
      ]
    },
    {
      "cell_type": "code",
      "metadata": {
        "id": "n7V-NvaVCtvx",
        "colab_type": "code",
        "outputId": "a94f596b-4c28-488d-e44f-cfa11ec249c7",
        "colab": {}
      },
      "source": [
        "#compile - how to measure loss\n",
        "model.compile(loss=losses.categorical_crossentropy, optimizer=optimizers.Adam(), metrics=['accuracy'])\n",
        "\n",
        "#train the model and return loss and accuracy for each epoch - history dictionary\n",
        "start = time.time()\n",
        "hist = model.fit(x_train, y_train, batch_size=batch_size, epochs=epochs, verbose=1, validation_data=(x_test, y_test))\n",
        "end = time.time()\n",
        "\n",
        "#evaluate the model on the test data\n",
        "score = model.evaluate(x_test, y_test, verbose=0)\n",
        "print('Test Loss: ', score[0])\n",
        "print('Test Accuracy: ', score[1])\n",
        "print('Time to run: ', (end-start))"
      ],
      "execution_count": 0,
      "outputs": [
        {
          "output_type": "stream",
          "text": [
            "WARNING:tensorflow:From /home/aysmtl/Downloads/246800ab3/lib/python3.7/site-packages/tensorflow/python/ops/math_ops.py:3066: to_int32 (from tensorflow.python.ops.math_ops) is deprecated and will be removed in a future version.\n",
            "Instructions for updating:\n",
            "Use tf.cast instead.\n",
            "Train on 60000 samples, validate on 10000 samples\n",
            "Epoch 1/24\n",
            "60000/60000 [==============================] - 76s 1ms/step - loss: 0.5348 - acc: 0.8066 - val_loss: 0.3861 - val_acc: 0.8624\n",
            "Epoch 2/24\n",
            "60000/60000 [==============================] - 73s 1ms/step - loss: 0.3417 - acc: 0.8767 - val_loss: 0.3724 - val_acc: 0.8681\n",
            "Epoch 3/24\n",
            "60000/60000 [==============================] - 73s 1ms/step - loss: 0.2977 - acc: 0.8916 - val_loss: 0.3077 - val_acc: 0.8888\n",
            "Epoch 4/24\n",
            "60000/60000 [==============================] - 73s 1ms/step - loss: 0.2677 - acc: 0.9021 - val_loss: 0.2982 - val_acc: 0.8919\n",
            "Epoch 5/24\n",
            "60000/60000 [==============================] - 71s 1ms/step - loss: 0.2449 - acc: 0.9116 - val_loss: 0.2699 - val_acc: 0.9045\n",
            "Epoch 6/24\n",
            "60000/60000 [==============================] - 72s 1ms/step - loss: 0.2250 - acc: 0.9179 - val_loss: 0.2646 - val_acc: 0.9040\n",
            "Epoch 7/24\n",
            "60000/60000 [==============================] - 77s 1ms/step - loss: 0.2076 - acc: 0.9243 - val_loss: 0.2542 - val_acc: 0.9074\n",
            "Epoch 8/24\n",
            "60000/60000 [==============================] - 72s 1ms/step - loss: 0.1921 - acc: 0.9299 - val_loss: 0.2557 - val_acc: 0.9092\n",
            "Epoch 9/24\n",
            "60000/60000 [==============================] - 76s 1ms/step - loss: 0.1784 - acc: 0.9338 - val_loss: 0.2864 - val_acc: 0.9030\n",
            "Epoch 10/24\n",
            "60000/60000 [==============================] - 76s 1ms/step - loss: 0.1638 - acc: 0.9389 - val_loss: 0.2579 - val_acc: 0.9113\n",
            "Epoch 11/24\n",
            "60000/60000 [==============================] - 75s 1ms/step - loss: 0.1497 - acc: 0.9443 - val_loss: 0.2555 - val_acc: 0.9114\n",
            "Epoch 12/24\n",
            "60000/60000 [==============================] - 73s 1ms/step - loss: 0.1368 - acc: 0.9498 - val_loss: 0.2541 - val_acc: 0.9154\n",
            "Epoch 13/24\n",
            "60000/60000 [==============================] - 73s 1ms/step - loss: 0.1257 - acc: 0.9536 - val_loss: 0.2802 - val_acc: 0.9086\n",
            "Epoch 14/24\n",
            "60000/60000 [==============================] - 76s 1ms/step - loss: 0.1149 - acc: 0.9583 - val_loss: 0.2621 - val_acc: 0.9138\n",
            "Epoch 15/24\n",
            "60000/60000 [==============================] - 69s 1ms/step - loss: 0.1011 - acc: 0.9632 - val_loss: 0.2748 - val_acc: 0.9150\n",
            "Epoch 16/24\n",
            "60000/60000 [==============================] - 69s 1ms/step - loss: 0.0970 - acc: 0.9645 - val_loss: 0.2888 - val_acc: 0.9107\n",
            "Epoch 17/24\n",
            "60000/60000 [==============================] - 68s 1ms/step - loss: 0.0847 - acc: 0.9691 - val_loss: 0.2918 - val_acc: 0.9149\n",
            "Epoch 18/24\n",
            "60000/60000 [==============================] - 68s 1ms/step - loss: 0.0772 - acc: 0.9716 - val_loss: 0.3060 - val_acc: 0.9159\n",
            "Epoch 19/24\n",
            "60000/60000 [==============================] - 68s 1ms/step - loss: 0.0696 - acc: 0.9744 - val_loss: 0.3167 - val_acc: 0.9131\n",
            "Epoch 20/24\n",
            "60000/60000 [==============================] - 70s 1ms/step - loss: 0.0609 - acc: 0.9772 - val_loss: 0.3608 - val_acc: 0.9113\n",
            "Epoch 21/24\n",
            "60000/60000 [==============================] - 71s 1ms/step - loss: 0.0595 - acc: 0.9786 - val_loss: 0.3476 - val_acc: 0.9087\n",
            "Epoch 22/24\n",
            "60000/60000 [==============================] - 71s 1ms/step - loss: 0.0492 - acc: 0.9825 - val_loss: 0.3588 - val_acc: 0.9114\n",
            "Epoch 23/24\n",
            "60000/60000 [==============================] - 71s 1ms/step - loss: 0.0470 - acc: 0.9828 - val_loss: 0.3778 - val_acc: 0.9129\n",
            "Epoch 24/24\n",
            "60000/60000 [==============================] - 73s 1ms/step - loss: 0.0435 - acc: 0.9843 - val_loss: 0.3752 - val_acc: 0.9095\n",
            "Test Loss:  0.37520481285229323\n",
            "Test Accuracy:  0.9095\n",
            "Time to run:  1737.5597445964813\n"
          ],
          "name": "stdout"
        }
      ]
    },
    {
      "cell_type": "markdown",
      "metadata": {
        "id": "jJtPucNpCtv1",
        "colab_type": "text"
      },
      "source": [
        "* This code plots the training and validation accuracy across 24 epochs\n",
        "* The training accuracy is often higher but the validation accuracy is deemed a more real world value\n",
        "* In case you are not satisfied with your model, you can tune hyperparameter to get a better performance. The hyperparameters for this model being:\n",
        " * Batch Size\n",
        " * Epochs\n",
        " * Optimizer\n",
        " * Model Architecture"
      ]
    },
    {
      "cell_type": "code",
      "metadata": {
        "id": "zUjaSx4bCtv2",
        "colab_type": "code",
        "outputId": "82edefbe-5508-44f2-b30b-92e2a4e715df",
        "colab": {}
      },
      "source": [
        "epoch_list = list(range(1, len(hist.history['acc']) + 1))\n",
        "plt.plot(epoch_list, hist.history['acc'], epoch_list, hist.history['val_acc'])\n",
        "plt.legend(('Training Accuracy', \"Validation Accuracy\"))\n",
        "plt.show()"
      ],
      "execution_count": 0,
      "outputs": [
        {
          "output_type": "display_data",
          "data": {
            "image/png": "[encoded data removed]",
            "text/plain": [
              "<Figure size 432x288 with 1 Axes>"
            ]
          },
          "metadata": {
            "tags": [],
            "needs_background": "light"
          }
        }
      ]
    },
    {
      "cell_type": "markdown",
      "metadata": {
        "id": "3nh6-hcvCtv6",
        "colab_type": "text"
      },
      "source": [
        "## Step 7: Test the model\n",
        "\n",
        "Now we run this code to see a set of 15 images from the test set and whether the labels are assigned correctly. We made use of the code given in this [Medium post](https://medium.com/tensorflow/hello-deep-learning-fashion-mnist-with-keras-50fcff8cd74a) for visualization."
      ]
    },
    {
      "cell_type": "code",
      "metadata": {
        "id": "FjG5RjWaCtv7",
        "colab_type": "code",
        "outputId": "f84a20e2-3ac7-45e4-ec15-40a9a90cddfa",
        "colab": {}
      },
      "source": [
        "predictions = model.predict(x_test)\n",
        "\n",
        "# Plot a random sample of 10 test images, their predicted labels and ground truth\n",
        "figure = plt.figure(figsize=(20, 8))\n",
        "for i, index in enumerate(np.random.choice(x_test.shape[0], size=15, replace=False)):\n",
        "    ax = figure.add_subplot(3, 5, i + 1, xticks=[], yticks=[])\n",
        "    # Display each image\n",
        "    ax.imshow(np.squeeze(x_test[index]))\n",
        "    predict_index = np.argmax(predictions[index])\n",
        "    true_index = np.argmax(y_test[index])\n",
        "    # Set the title for each image\n",
        "    ax.set_title(\"{} ({})\".format(fashion_mnist_labels[predict_index], \n",
        "                                  fashion_mnist_labels[true_index]),\n",
        "                                  color=(\"green\" if predict_index == true_index else \"red\"))"
      ],
      "execution_count": 0,
      "outputs": [
        {
          "output_type": "display_data",
          "data": {
            "image/png": "[encoded data removed]",
            "text/plain": [
              "<Figure size 1440x576 with 15 Axes>"
            ]
          },
          "metadata": {
            "tags": []
          }
        }
      ]
    },
    {
      "cell_type": "markdown",
      "metadata": {
        "id": "w6bm0ELiCtv_",
        "colab_type": "text"
      },
      "source": [
        "### Congratulations you succesfully trained and evaluated the model on Fashion-MNIST dataset."
      ]
    }
  ]
}